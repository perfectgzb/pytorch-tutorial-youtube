{
  "nbformat": 4,
  "nbformat_minor": 0,
  "metadata": {
    "colab": {
      "provenance": [],
      "gpuType": "T4",
      "authorship_tag": "ABX9TyOGgQA7BdqW2pvnX+4A/u7E",
      "include_colab_link": true
    },
    "kernelspec": {
      "name": "python3",
      "display_name": "Python 3"
    },
    "language_info": {
      "name": "python"
    },
    "accelerator": "GPU"
  },
  "cells": [
    {
      "cell_type": "markdown",
      "metadata": {
        "id": "view-in-github",
        "colab_type": "text"
      },
      "source": [
        "<a href=\"https://colab.research.google.com/github/perfectgzb/pytorch-tutorial-youtube/blob/main/intro.ipynb\" target=\"_parent\"><img src=\"https://colab.research.google.com/assets/colab-badge.svg\" alt=\"Open In Colab\"/></a>"
      ]
    },
    {
      "cell_type": "code",
      "source": [
        "import torch\n",
        "import torch.nn as nn\n",
        "import torch.nn.functional as F"
      ],
      "metadata": {
        "id": "u4LMsgiX87dy"
      },
      "execution_count": 19,
      "outputs": []
    },
    {
      "cell_type": "code",
      "source": [
        "# Create a model class that inherits nn.Module\n",
        "class Model(nn.Module):\n",
        "  # input layer 4 feautures of the flower -- hiden layer1 (number of neurons ) -- H2 (n) --- output (3 clasees of iris flower)\n",
        "\n",
        " def __init__(self, in_features=4, h1=8, h2=9, out_features=3):\n",
        "  super().__init__()\n",
        "  self.fc1 = nn.Linear(in_features, h1)\n",
        "  self.fc2 = nn.Linear(h1, h2)\n",
        "  self.out = nn.Linear(h2, out_features)\n",
        "\n",
        "  def forward(self, x):\n",
        "    x = F.relu(self.fc1(x))\n",
        "    x = F.relu(self.fc2(x))\n",
        "    x = self.out(x)\n",
        "    return x"
      ],
      "metadata": {
        "id": "w0OI9rix9QmM"
      },
      "execution_count": 24,
      "outputs": []
    },
    {
      "cell_type": "code",
      "source": [
        "torch.manual_seed(41)\n",
        "model = Model()"
      ],
      "metadata": {
        "id": "GSv9HdyGBlCA"
      },
      "execution_count": 25,
      "outputs": []
    }
  ]
}